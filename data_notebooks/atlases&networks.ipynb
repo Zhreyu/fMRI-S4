{
 "cells": [
  {
   "cell_type": "code",
   "execution_count": 31,
   "id": "67d8f04b",
   "metadata": {},
   "outputs": [],
   "source": [
    "import pandas as pd \n",
    "import numpy as np\n",
    "from nilearn import input_data\n",
    "from nilearn import datasets\n",
    "from nilearn.input_data import NiftiLabelsMasker\n",
    "import glob\n",
    "from tqdm import tqdm\n",
    "from nilearn.connectome import ConnectivityMeasure\n",
    "import os\n",
    "import nibabel as nib\n",
    "import nilearn"
   ]
  },
  {
   "cell_type": "markdown",
   "id": "2c9d8223",
   "metadata": {},
   "source": [
    "# Extract Netwokrs in AAL atlas based on yeo7"
   ]
  },
  {
   "cell_type": "code",
   "execution_count": 172,
   "id": "18a9af28",
   "metadata": {},
   "outputs": [],
   "source": [
    "aal_atlas = datasets.fetch_atlas_aal(version='SPM12')\n",
    "aal_maps = aal_atlas.maps\n",
    "\n",
    "atlas_yeo_2011 = datasets.fetch_atlas_yeo_2011()\n",
    "atlas_yeo = atlas_yeo_2011.thick_7\n"
   ]
  },
  {
   "cell_type": "code",
   "execution_count": 173,
   "id": "dbd15b95",
   "metadata": {},
   "outputs": [],
   "source": [
    "regions = np.array(aal_atlas['labels'])\n",
    "\n"
   ]
  },
  {
   "cell_type": "code",
   "execution_count": 174,
   "id": "73604de2",
   "metadata": {},
   "outputs": [],
   "source": [
    "yeo_re_file = nilearn.image.resample_to_img(nib.load(atlas_yeo), nib.load(aal_maps))"
   ]
  },
  {
   "cell_type": "code",
   "execution_count": 175,
   "id": "f3073082",
   "metadata": {},
   "outputs": [],
   "source": [
    "yeo_re = np.squeeze(yeo_re_file.get_fdata())\n",
    "aal =  nib.load(aal_maps).get_fdata()"
   ]
  },
  {
   "cell_type": "code",
   "execution_count": 176,
   "id": "89ca682f",
   "metadata": {},
   "outputs": [],
   "source": [
    "aal_ind_w = np.array(aal_atlas.indices).astype(np.int64)\n",
    "aal_ind_n = np.arange(0,116)\n"
   ]
  },
  {
   "cell_type": "code",
   "execution_count": 177,
   "id": "3bd4affc",
   "metadata": {},
   "outputs": [],
   "source": [
    "from numpy import copy\n",
    "d = dict(zip(aal_ind_w,aal_ind_n))\n",
    "d[0] = -1\n",
    "aal_corr = copy(aal)\n",
    "for k, v in d.items(): aal_corr[aal==k] = v"
   ]
  },
  {
   "cell_type": "code",
   "execution_count": 310,
   "id": "15f71ebe",
   "metadata": {},
   "outputs": [
    {
     "data": {
      "text/plain": [
       "array([0, 1, 2, 3, 4, 5, 6, 7])"
      ]
     },
     "execution_count": 310,
     "metadata": {},
     "output_type": "execute_result"
    }
   ],
   "source": [
    "yeo_re = yeo_re.astype(np.int64)\n",
    "np.unique(yeo_re)"
   ]
  },
  {
   "cell_type": "code",
   "execution_count": 211,
   "id": "f6afde1d",
   "metadata": {},
   "outputs": [],
   "source": [
    "aal_networks = []\n",
    "\n",
    "for i in np.unique(yeo_re):\n",
    "    network_ind = np.where(yeo_re==i)\n",
    "    aal_network_i = aal_corr[network_ind]\n",
    "    #Find overlpping rois with vol > 0.5 orig size\n",
    "    rois = []\n",
    "    for roi in np.unique(aal_network_i):\n",
    "        roi_size = np.count_nonzero(aal_corr == roi)\n",
    "        roi_size_network = np.count_nonzero(aal_network_i == roi)\n",
    "        if roi_size_network >= 0.2 * roi_size:\n",
    "            rois.append(int(roi))\n",
    "    aal_networks.append(rois)\n",
    "    "
   ]
  },
  {
   "cell_type": "code",
   "execution_count": 212,
   "id": "32c9d693",
   "metadata": {},
   "outputs": [
    {
     "name": "stdout",
     "output_type": "stream",
     "text": [
      "Visual Network : 15 regions\n",
      "['ParaHippocampal_R' 'Calcarine_L' 'Calcarine_R' 'Cuneus_L' 'Cuneus_R'\n",
      " 'Lingual_L' 'Lingual_R' 'Occipital_Sup_L' 'Occipital_Sup_R'\n",
      " 'Occipital_Mid_L' 'Occipital_Mid_R' 'Occipital_Inf_L' 'Occipital_Inf_R'\n",
      " 'Fusiform_L' 'Fusiform_R']\n",
      "*****************************\n",
      "Somatomotor Network : 15 regions\n",
      "['Precentral_L' 'Precentral_R' 'Rolandic_Oper_L' 'Rolandic_Oper_R'\n",
      " 'Supp_Motor_Area_L' 'Supp_Motor_Area_R' 'Insula_R' 'Postcentral_L'\n",
      " 'Postcentral_R' 'Paracentral_Lobule_L' 'Paracentral_Lobule_R' 'Heschl_L'\n",
      " 'Heschl_R' 'Temporal_Sup_L' 'Temporal_Sup_R']\n",
      "*****************************\n",
      "Dorsal Attention Network : 9 regions\n",
      "['Precentral_L' 'Parietal_Sup_L' 'Parietal_Sup_R' 'Parietal_Inf_L'\n",
      " 'Parietal_Inf_R' 'Precuneus_L' 'Precuneus_R' 'Temporal_Inf_L'\n",
      " 'Temporal_Inf_R']\n",
      "*****************************\n",
      "Ventral Attention Network : 12 regions\n",
      "['Frontal_Inf_Oper_L' 'Frontal_Inf_Oper_R' 'Rolandic_Oper_L'\n",
      " 'Rolandic_Oper_R' 'Supp_Motor_Area_L' 'Supp_Motor_Area_R' 'Insula_L'\n",
      " 'Insula_R' 'Cingulum_Mid_L' 'Cingulum_Mid_R' 'SupraMarginal_L'\n",
      " 'SupraMarginal_R']\n",
      "*****************************\n",
      "Limbic Network : 20 regions\n",
      "['Frontal_Sup_Orb_L' 'Frontal_Sup_Orb_R' 'Frontal_Mid_Orb_L'\n",
      " 'Frontal_Inf_Orb_L' 'Olfactory_L' 'Olfactory_R' 'Frontal_Med_Orb_L'\n",
      " 'Frontal_Med_Orb_R' 'Rectus_L' 'Rectus_R' 'ParaHippocampal_L'\n",
      " 'ParaHippocampal_R' 'Fusiform_L' 'Fusiform_R' 'Temporal_Pole_Sup_L'\n",
      " 'Temporal_Pole_Sup_R' 'Temporal_Pole_Mid_L' 'Temporal_Pole_Mid_R'\n",
      " 'Temporal_Inf_L' 'Temporal_Inf_R']\n",
      "*****************************\n",
      "Frotoparital Network : 13 regions\n",
      "['Frontal_Sup_R' 'Frontal_Sup_Orb_R' 'Frontal_Mid_L' 'Frontal_Mid_R'\n",
      " 'Frontal_Mid_Orb_L' 'Frontal_Mid_Orb_R' 'Frontal_Inf_Oper_L'\n",
      " 'Frontal_Inf_Oper_R' 'Frontal_Inf_Tri_L' 'Frontal_Inf_Tri_R'\n",
      " 'Parietal_Inf_L' 'Parietal_Inf_R' 'SupraMarginal_R']\n",
      "*****************************\n",
      "Default Network : 23 regions\n",
      "['Frontal_Sup_L' 'Frontal_Sup_R' 'Frontal_Mid_L' 'Frontal_Inf_Tri_L'\n",
      " 'Frontal_Inf_Orb_L' 'Frontal_Inf_Orb_R' 'Frontal_Sup_Medial_L'\n",
      " 'Frontal_Sup_Medial_R' 'Frontal_Med_Orb_L' 'Frontal_Med_Orb_R'\n",
      " 'Cingulum_Ant_L' 'Cingulum_Ant_R' 'Cingulum_Mid_L' 'Cingulum_Post_L'\n",
      " 'Cingulum_Post_R' 'Angular_L' 'Angular_R' 'Precuneus_L' 'Precuneus_R'\n",
      " 'Temporal_Mid_L' 'Temporal_Mid_R' 'Temporal_Pole_Mid_L'\n",
      " 'Temporal_Pole_Mid_R']\n",
      "*****************************\n"
     ]
    }
   ],
   "source": [
    "network_names = ['Visual', 'Somatomotor', 'Dorsal Attention', 'Ventral Attention', 'Limbic', 'Frotoparital', 'Default']\n",
    "for i, n in enumerate(aal_networks[1:]):\n",
    "    print(f'{network_names[i]} Network : {len(n)} regions')\n",
    "    print(regions[n])\n",
    "    print('*****************************')"
   ]
  },
  {
   "cell_type": "code",
   "execution_count": 156,
   "id": "7f1b20ec",
   "metadata": {},
   "outputs": [],
   "source": [
    "flat_list = [item for sublist in aal_networks for item in sublist]"
   ]
  },
  {
   "cell_type": "code",
   "execution_count": 214,
   "id": "87d21bbc",
   "metadata": {},
   "outputs": [],
   "source": []
  },
  {
   "cell_type": "code",
   "execution_count": 222,
   "id": "47982d17",
   "metadata": {},
   "outputs": [
    {
     "data": {
      "text/plain": [
       "[39, 42, 43, 44, 45, 46, 47, 48, 49, 50, 51, 52, 53, 54, 55]"
      ]
     },
     "execution_count": 222,
     "metadata": {},
     "output_type": "execute_result"
    }
   ],
   "source": [
    "np.save(\"networks.npy\",dict(zip(network_names,aal_networks[1:])))\n",
    "np.load('networks.npy', allow_pickle=True).item()['Visual']"
   ]
  },
  {
   "cell_type": "code",
   "execution_count": 292,
   "id": "e9484a96",
   "metadata": {},
   "outputs": [],
   "source": [
    "dataset = datasets.fetch_atlas_harvard_oxford('cort-maxprob-thr25-2mm', symmetric_split= True)\n",
    "ho_cor = dataset.maps\n",
    "labels_cor = dataset.labels[1:]\n",
    "\n",
    "dataset = datasets.fetch_atlas_harvard_oxford('sub-maxprob-thr25-2mm', symmetric_split= True)\n",
    "ho_sub = dataset.maps\n",
    "labels_sub = dataset.labels[1:]"
   ]
  },
  {
   "cell_type": "code",
   "execution_count": 293,
   "id": "1ae3a7ca",
   "metadata": {},
   "outputs": [],
   "source": [
    "regions_ho = labels_cor + labels_sub"
   ]
  },
  {
   "cell_type": "code",
   "execution_count": 311,
   "id": "213254d9",
   "metadata": {},
   "outputs": [],
   "source": [
    "ho_c =  ho_cor.get_fdata()\n",
    "ho_s = ho_sub.get_fdata()"
   ]
  },
  {
   "cell_type": "code",
   "execution_count": 309,
   "id": "681ff5c7",
   "metadata": {},
   "outputs": [],
   "source": [
    "yeo_re_file = nilearn.image.resample_to_img(nib.load(atlas_yeo), ho_cor)"
   ]
  },
  {
   "cell_type": "code",
   "execution_count": 314,
   "id": "14faff20",
   "metadata": {},
   "outputs": [],
   "source": [
    "ho_c = ho_c -1 "
   ]
  },
  {
   "cell_type": "code",
   "execution_count": 296,
   "id": "d8fdbc92",
   "metadata": {},
   "outputs": [],
   "source": [
    "sub_ind = np.arange(97,119)\n",
    "d = dict(zip(np.arange(1,24) ,sub_ind))\n",
    "ho_s_corr = copy(ho_s)\n",
    "for k, v in d.items(): ho_s_corr[ho_s==k] = v"
   ]
  },
  {
   "cell_type": "code",
   "execution_count": 399,
   "id": "ffbc5686",
   "metadata": {},
   "outputs": [],
   "source": [
    "ho_networks = []\n",
    "\n",
    "for i in np.unique(yeo_re):\n",
    "    network_ind = np.where(yeo_re==i)\n",
    "    ho_network_i = ho_c[network_ind]\n",
    "    #Find overlpping rois with vol > 0.5 orig size\n",
    "    rois = []\n",
    "    for roi in np.unique(ho_network_i):\n",
    "        roi_size = np.count_nonzero(ho_c == roi)\n",
    "        roi_size_network = np.count_nonzero(ho_network_i == roi)\n",
    "        if roi_size_network >= 0.5 * roi_size:\n",
    "            rois.append(int(roi))\n",
    "    ho_networks.append(rois)\n",
    "    "
   ]
  },
  {
   "cell_type": "code",
   "execution_count": 400,
   "id": "fdd47aa0",
   "metadata": {},
   "outputs": [
    {
     "name": "stdout",
     "output_type": "stream",
     "text": [
      "Visual Network : 17 regions\n",
      "['Left Lateral Occipital Cortex, inferior division'\n",
      " 'Right Lateral Occipital Cortex, inferior division'\n",
      " 'Left Intracalcarine Cortex' 'Right Intracalcarine Cortex'\n",
      " 'Left Cuneal Cortex' 'Right Cuneal Cortex'\n",
      " 'Left Parahippocampal Gyrus, posterior division' 'Left Lingual Gyrus'\n",
      " 'Right Lingual Gyrus' 'Left Temporal Occipital Fusiform Cortex'\n",
      " 'Right Temporal Occipital Fusiform Cortex'\n",
      " 'Left Occipital Fusiform Gyrus' 'Right Occipital Fusiform Gyrus'\n",
      " 'Left Supracalcarine Cortex' 'Right Supracalcarine Cortex'\n",
      " 'Left Occipital Pole' 'Right Occipital Pole']\n",
      "*****************************\n",
      "Somatomotor Network : 14 regions\n",
      "['Left Precentral Gyrus' 'Right Precentral Gyrus'\n",
      " 'Left Superior Temporal Gyrus, posterior division'\n",
      " 'Left Postcentral Gyrus' 'Right Postcentral Gyrus'\n",
      " 'Left Juxtapositional Lobule Cortex (formerly Supplementary Motor Cortex)'\n",
      " 'Left Central Opercular Cortex' 'Right Central Opercular Cortex'\n",
      " 'Left Parietal Operculum Cortex' 'Right Parietal Operculum Cortex'\n",
      " \"Left Heschl's Gyrus (includes H1 and H2)\"\n",
      " \"Right Heschl's Gyrus (includes H1 and H2)\" 'Left Planum Temporale'\n",
      " 'Right Planum Temporale']\n",
      "*****************************\n",
      "Dorsal Attention Network : 3 regions\n",
      "['Left Middle Temporal Gyrus, temporooccipital part'\n",
      " 'Left Inferior Temporal Gyrus, temporooccipital part'\n",
      " 'Left Superior Parietal Lobule']\n",
      "*****************************\n",
      "Ventral Attention Network : 4 regions\n",
      "['Left Insular Cortex' 'Right Insular Cortex'\n",
      " 'Left Frontal Operculum Cortex' 'Right Frontal Operculum Cortex']\n",
      "*****************************\n",
      "Limbic Network : 14 regions\n",
      "['Left Temporal Pole' 'Right Temporal Pole'\n",
      " 'Left Inferior Temporal Gyrus, anterior division'\n",
      " 'Right Inferior Temporal Gyrus, anterior division'\n",
      " 'Right Inferior Temporal Gyrus, posterior division'\n",
      " 'Left Frontal Medial Cortex' 'Right Frontal Medial Cortex'\n",
      " 'Left Subcallosal Cortex' 'Right Subcallosal Cortex'\n",
      " 'Left Parahippocampal Gyrus, anterior division'\n",
      " 'Right Parahippocampal Gyrus, anterior division'\n",
      " 'Left Temporal Fusiform Cortex, anterior division'\n",
      " 'Right Temporal Fusiform Cortex, anterior division'\n",
      " 'Right Temporal Fusiform Cortex, posterior division']\n",
      "*****************************\n",
      "Frotoparital Network : 1 regions\n",
      "['Left Middle Frontal Gyrus']\n",
      "*****************************\n",
      "Default Network : 16 regions\n",
      "['Right Superior Frontal Gyrus'\n",
      " 'Right Inferior Frontal Gyrus, pars triangularis'\n",
      " 'Right Inferior Frontal Gyrus, pars opercularis'\n",
      " 'Left Superior Temporal Gyrus, anterior division'\n",
      " 'Right Superior Temporal Gyrus, anterior division'\n",
      " 'Right Superior Temporal Gyrus, posterior division'\n",
      " 'Left Middle Temporal Gyrus, anterior division'\n",
      " 'Right Middle Temporal Gyrus, anterior division'\n",
      " 'Left Middle Temporal Gyrus, posterior division'\n",
      " 'Right Middle Temporal Gyrus, posterior division' 'Left Angular Gyrus'\n",
      " 'Right Angular Gyrus' 'Left Paracingulate Gyrus'\n",
      " 'Right Paracingulate Gyrus' 'Right Cingulate Gyrus, posterior division'\n",
      " 'Right Parahippocampal Gyrus, posterior division']\n",
      "*****************************\n"
     ]
    }
   ],
   "source": [
    "network_names = ['Visual', 'Somatomotor', 'Dorsal Attention', 'Ventral Attention', 'Limbic', 'Frotoparital', 'Default']\n",
    "for i, n in enumerate(ho_networks[1:]):\n",
    "    print(f'{network_names[i]} Network : {len(n)} regions')\n",
    "    print(np.array(labels_cor)[n])\n",
    "    print('*****************************')"
   ]
  },
  {
   "cell_type": "code",
   "execution_count": 364,
   "id": "43461473",
   "metadata": {},
   "outputs": [],
   "source": [
    "ho_networks.append(np.arange(96,96+22).tolist())"
   ]
  },
  {
   "cell_type": "code",
   "execution_count": 365,
   "id": "82d4539d",
   "metadata": {},
   "outputs": [],
   "source": [
    "network_names = ['Visual', 'Somatomotor', 'Dorsal Attention', 'Ventral Attention', 'Limbic', 'Frotoparital', 'Default','Subcortical']\n",
    "np.save(\"ho_networks.npy\",dict(zip(network_names,ho_networks[1:])))\n",
    "\n"
   ]
  },
  {
   "cell_type": "code",
   "execution_count": 402,
   "id": "8c64852d",
   "metadata": {},
   "outputs": [
    {
     "data": {
      "text/plain": [
       "['Visual',\n",
       " 'Somatomotor',\n",
       " 'Dorsal Attention',\n",
       " 'Ventral Attention',\n",
       " 'Limbic',\n",
       " 'Frotoparital',\n",
       " 'Default']"
      ]
     },
     "execution_count": 402,
     "metadata": {},
     "output_type": "execute_result"
    }
   ],
   "source": [
    "network_names"
   ]
  },
  {
   "cell_type": "code",
   "execution_count": 401,
   "id": "e19417b5",
   "metadata": {},
   "outputs": [
    {
     "data": {
      "text/plain": [
       "[[-1],\n",
       " [44, 45, 46, 47, 62, 63, 68, 70, 71, 76, 77, 78, 79, 92, 93, 94, 95],\n",
       " [12, 13, 18, 32, 33, 50, 82, 83, 84, 85, 88, 89, 90, 91],\n",
       " [24, 30, 34],\n",
       " [2, 3, 80, 81],\n",
       " [14, 15, 26, 27, 29, 48, 49, 52, 53, 66, 67, 72, 73, 75],\n",
       " [6],\n",
       " [5, 9, 11, 16, 17, 19, 20, 21, 22, 23, 40, 41, 54, 55, 59, 69]]"
      ]
     },
     "execution_count": 401,
     "metadata": {},
     "output_type": "execute_result"
    }
   ],
   "source": [
    "ho_networks"
   ]
  },
  {
   "cell_type": "code",
   "execution_count": 419,
   "id": "09a3a035",
   "metadata": {},
   "outputs": [
    {
     "data": {
      "text/plain": [
       "torch.Size([3, 100, 2])"
      ]
     },
     "execution_count": 419,
     "metadata": {},
     "output_type": "execute_result"
    }
   ],
   "source": [
    "import torch\n",
    "x = torch.ones((3,100,4))\n",
    "m = torch.tensor([0,0,1,1])\n",
    "mask = torch.where(m==1)[0]\n",
    "z = x[:,:,mask]\n",
    "z.shape\n"
   ]
  },
  {
   "cell_type": "code",
   "execution_count": 425,
   "id": "c57abf6e",
   "metadata": {},
   "outputs": [
    {
     "data": {
      "text/plain": [
       "torch.Size([3, 100, 2])"
      ]
     },
     "execution_count": 425,
     "metadata": {},
     "output_type": "execute_result"
    }
   ],
   "source": [
    "f = z - z.mean(0,keepdim=True)\n",
    "f.shape"
   ]
  },
  {
   "cell_type": "code",
   "execution_count": 381,
   "id": "d9591782",
   "metadata": {},
   "outputs": [
    {
     "name": "stderr",
     "output_type": "stream",
     "text": [
      "/data/agelgazzar/anaconda3/envs/ssm/lib/python3.9/site-packages/nilearn/datasets/atlas.py:1261: UserWarning: `legacy_format` will default to `False` in release 0.11. Dataset fetchers will then return pandas dataframes by default instead of recarrays.\n",
      "  warnings.warn(_LEGACY_FORMAT_MSG)\n"
     ]
    }
   ],
   "source": [
    "dataset = nilearn.datasets.fetch_coords_dosenbach_2010()"
   ]
  },
  {
   "cell_type": "code",
   "execution_count": 370,
   "id": "acd93982",
   "metadata": {},
   "outputs": [
    {
     "data": {
      "text/plain": [
       "array(['inf cerebellum 155', 'inf cerebellum 150', 'inf cerebellum 151',\n",
       "       'inf cerebellum 140', 'inf cerebellum 131', 'inf cerebellum 122',\n",
       "       'inf cerebellum 121', 'inf cerebellum 110', 'lat cerebellum 128',\n",
       "       'lat cerebellum 113', 'lat cerebellum 109', 'lat cerebellum 98',\n",
       "       'med cerebellum 143', 'med cerebellum 144', 'med cerebellum 138',\n",
       "       'med cerebellum 130', 'med cerebellum 127', 'med cerebellum 120',\n",
       "       'ACC 19', 'TPJ 125', 'aPFC 8', 'angular gyrus 102',\n",
       "       'ant insula 28', 'ant insula 26', 'basal ganglia 71',\n",
       "       'basal ganglia 38', 'basal ganglia 39', 'basal ganglia 30',\n",
       "       'dACC 27', 'fusiform 81', 'mFC 31', 'mid insula 61',\n",
       "       'mid insula 59', 'mid insula 44', 'parietal 97', 'parietal 89',\n",
       "       'post cingulate 80', 'post insula 76', 'precuneus 87',\n",
       "       'sup temporal 100', 'temporal 103', 'temporal 95', 'temporal 78',\n",
       "       'thalamus 57', 'thalamus 58', 'thalamus 47', 'vFC 40', 'vFC 33',\n",
       "       'vFC 25', 'vPFC 18', 'ACC 14', 'IPS 134', 'aPFC 5',\n",
       "       'angular gyrus 124', 'angular gyrus 117', 'fusiform 84',\n",
       "       'inf temporal 91', 'inf temporal 72', 'inf temporal 63', 'mPFC 4',\n",
       "       'occipital 146', 'occipital 141', 'occipital 136', 'occipital 137',\n",
       "       'occipital 92', 'post cingulate 115', 'post cingulate 111',\n",
       "       'post cingulate 108', 'post cingulate 93', 'post cingulate 90',\n",
       "       'post cingulate 73', 'precuneus 132', 'precuneus 112',\n",
       "       'precuneus 105', 'precuneus 94', 'precuneus 85', 'sup frontal 20',\n",
       "       'sup frontal 17', 'vlPFC 15', 'vmPFC 13', 'vmPFC 11', 'vmPFC 7',\n",
       "       'vmPFC 6', 'vmPFC 1', 'ACC 21', 'IPL 107', 'IPL 104', 'IPL 101',\n",
       "       'IPL 96', 'IPL 88', 'IPS 116', 'IPS 114', 'aPFC 2', 'aPFC 3',\n",
       "       'dFC 36', 'dFC 34', 'dFC 29', 'dlPFC 24', 'dlPFC 22', 'dlPFC 16',\n",
       "       'post parietal 99', 'vPFC 23', 'vent aPFC 10', 'vent aPFC 9',\n",
       "       'vlPFC 12', 'occipital 149', 'occipital 148', 'occipital 145',\n",
       "       'occipital 147', 'occipital 142', 'occipital 139', 'occipital 135',\n",
       "       'occipital 133', 'occipital 129', 'occipital 126', 'occipital 118',\n",
       "       'occipital 119', 'occipital 106', 'post occipital 160',\n",
       "       'post occipital 158', 'post occipital 159', 'post occipital 157',\n",
       "       'post occipital 156', 'post occipital 153', 'post occipital 154',\n",
       "       'post occipital 152', 'temporal 123', 'SMA 43', 'dFC 35',\n",
       "       'frontal 45', 'frontal 32', 'mid insula 55', 'mid insula 56',\n",
       "       'mid insula 48', 'parietal 77', 'parietal 74', 'parietal 75',\n",
       "       'parietal 69', 'parietal 66', 'parietal 65', 'parietal 64',\n",
       "       'parietal 62', 'parietal 54', 'parietal 50', 'post insula 70',\n",
       "       'post parietal 79', 'pre-SMA 41', 'precentral gyrus 67',\n",
       "       'precentral gyrus 53', 'precentral gyrus 52',\n",
       "       'precentral gyrus 51', 'precentral gyrus 49',\n",
       "       'precentral gyrus 46', 'sup parietal 86', 'temporal 82',\n",
       "       'temporal 83', 'temporal 68', 'temporal 60', 'vFC 42', 'vFC 37'],\n",
       "      dtype='<U19')"
      ]
     },
     "execution_count": 370,
     "metadata": {},
     "output_type": "execute_result"
    }
   ],
   "source": [
    "np.where(dataset['labels'] == 'thalamus 57')"
   ]
  },
  {
   "cell_type": "code",
   "execution_count": 377,
   "id": "52505f38",
   "metadata": {},
   "outputs": [
    {
     "data": {
      "text/plain": [
       "(array([43]),)"
      ]
     },
     "execution_count": 377,
     "metadata": {},
     "output_type": "execute_result"
    }
   ],
   "source": [
    "np.where(dataset['labels'] == 'thalamus 57')"
   ]
  },
  {
   "cell_type": "code",
   "execution_count": 382,
   "id": "6b551cf7",
   "metadata": {},
   "outputs": [],
   "source": [
    "networks = dataset['networks'].unique()"
   ]
  },
  {
   "cell_type": "code",
   "execution_count": 394,
   "id": "d7c2618c",
   "metadata": {},
   "outputs": [
    {
     "data": {
      "text/plain": [
       "(array([127, 128, 129, 130, 131, 132, 133, 134, 135, 136, 137, 138, 139,\n",
       "        140, 141, 142, 143, 144, 145, 146, 147, 148, 149, 150, 151, 152,\n",
       "        153, 154, 155, 156, 157, 158, 159]),)"
      ]
     },
     "execution_count": 394,
     "metadata": {},
     "output_type": "execute_result"
    }
   ],
   "source": [
    "np.where(dataset['networks']=='sensorimotor')"
   ]
  },
  {
   "cell_type": "code",
   "execution_count": 391,
   "id": "7c0422d8",
   "metadata": {},
   "outputs": [],
   "source": [
    "dos_networks = []\n",
    "    \n",
    "for network in networks:\n",
    "    network_ind = np.where(dataset['networks']==network)[0].tolist()\n",
    "    dos_networks.append(network_ind)\n",
    "    "
   ]
  },
  {
   "cell_type": "code",
   "execution_count": 385,
   "id": "543ff1e5",
   "metadata": {},
   "outputs": [],
   "source": [
    "networks_list = networks.tolist()"
   ]
  },
  {
   "cell_type": "code",
   "execution_count": 393,
   "id": "115eb681",
   "metadata": {},
   "outputs": [],
   "source": [
    "np.save(\"dos_networks.npy\",dict(zip(networks_list,dos_networks)))"
   ]
  },
  {
   "cell_type": "code",
   "execution_count": 387,
   "id": "b9e2b548",
   "metadata": {},
   "outputs": [
    {
     "data": {
      "text/plain": [
       "['cerebellum',\n",
       " 'cingulo-opercular',\n",
       " 'default',\n",
       " 'fronto-parietal',\n",
       " 'occipital',\n",
       " 'sensorimotor']"
      ]
     },
     "execution_count": 387,
     "metadata": {},
     "output_type": "execute_result"
    }
   ],
   "source": [
    "networks_list"
   ]
  },
  {
   "cell_type": "code",
   "execution_count": 392,
   "id": "d7fd37a2",
   "metadata": {},
   "outputs": [
    {
     "data": {
      "text/plain": [
       "[[0, 1, 2, 3, 4, 5, 6, 7, 8, 9, 10, 11, 12, 13, 14, 15, 16, 17],\n",
       " [18,\n",
       "  19,\n",
       "  20,\n",
       "  21,\n",
       "  22,\n",
       "  23,\n",
       "  24,\n",
       "  25,\n",
       "  26,\n",
       "  27,\n",
       "  28,\n",
       "  29,\n",
       "  30,\n",
       "  31,\n",
       "  32,\n",
       "  33,\n",
       "  34,\n",
       "  35,\n",
       "  36,\n",
       "  37,\n",
       "  38,\n",
       "  39,\n",
       "  40,\n",
       "  41,\n",
       "  42,\n",
       "  43,\n",
       "  44,\n",
       "  45,\n",
       "  46,\n",
       "  47,\n",
       "  48,\n",
       "  49],\n",
       " [50,\n",
       "  51,\n",
       "  52,\n",
       "  53,\n",
       "  54,\n",
       "  55,\n",
       "  56,\n",
       "  57,\n",
       "  58,\n",
       "  59,\n",
       "  60,\n",
       "  61,\n",
       "  62,\n",
       "  63,\n",
       "  64,\n",
       "  65,\n",
       "  66,\n",
       "  67,\n",
       "  68,\n",
       "  69,\n",
       "  70,\n",
       "  71,\n",
       "  72,\n",
       "  73,\n",
       "  74,\n",
       "  75,\n",
       "  76,\n",
       "  77,\n",
       "  78,\n",
       "  79,\n",
       "  80,\n",
       "  81,\n",
       "  82,\n",
       "  83],\n",
       " [84,\n",
       "  85,\n",
       "  86,\n",
       "  87,\n",
       "  88,\n",
       "  89,\n",
       "  90,\n",
       "  91,\n",
       "  92,\n",
       "  93,\n",
       "  94,\n",
       "  95,\n",
       "  96,\n",
       "  97,\n",
       "  98,\n",
       "  99,\n",
       "  100,\n",
       "  101,\n",
       "  102,\n",
       "  103,\n",
       "  104],\n",
       " [105,\n",
       "  106,\n",
       "  107,\n",
       "  108,\n",
       "  109,\n",
       "  110,\n",
       "  111,\n",
       "  112,\n",
       "  113,\n",
       "  114,\n",
       "  115,\n",
       "  116,\n",
       "  117,\n",
       "  118,\n",
       "  119,\n",
       "  120,\n",
       "  121,\n",
       "  122,\n",
       "  123,\n",
       "  124,\n",
       "  125,\n",
       "  126],\n",
       " [127,\n",
       "  128,\n",
       "  129,\n",
       "  130,\n",
       "  131,\n",
       "  132,\n",
       "  133,\n",
       "  134,\n",
       "  135,\n",
       "  136,\n",
       "  137,\n",
       "  138,\n",
       "  139,\n",
       "  140,\n",
       "  141,\n",
       "  142,\n",
       "  143,\n",
       "  144,\n",
       "  145,\n",
       "  146,\n",
       "  147,\n",
       "  148,\n",
       "  149,\n",
       "  150,\n",
       "  151,\n",
       "  152,\n",
       "  153,\n",
       "  154,\n",
       "  155,\n",
       "  156,\n",
       "  157,\n",
       "  158,\n",
       "  159]]"
      ]
     },
     "execution_count": 392,
     "metadata": {},
     "output_type": "execute_result"
    }
   ],
   "source": [
    "dos_networks"
   ]
  },
  {
   "cell_type": "code",
   "execution_count": 389,
   "id": "b74acddb",
   "metadata": {},
   "outputs": [
    {
     "data": {
      "text/plain": [
       "[[-1],\n",
       " [44, 45, 46, 47, 62, 63, 68, 70, 71, 76, 77, 78, 79, 92, 93, 94, 95],\n",
       " [12, 13, 18, 32, 33, 82, 83, 88, 89, 90, 91],\n",
       " [24, 30, 34],\n",
       " [2, 3, 80, 81],\n",
       " [14, 26, 27, 49, 52, 53, 66, 67, 72, 73, 75],\n",
       " [6],\n",
       " [9, 16, 17, 20, 21, 22, 23, 40, 41, 55, 59, 69],\n",
       " [96,\n",
       "  97,\n",
       "  98,\n",
       "  99,\n",
       "  100,\n",
       "  101,\n",
       "  102,\n",
       "  103,\n",
       "  104,\n",
       "  105,\n",
       "  106,\n",
       "  107,\n",
       "  108,\n",
       "  109,\n",
       "  110,\n",
       "  111,\n",
       "  112,\n",
       "  113,\n",
       "  114,\n",
       "  115,\n",
       "  116,\n",
       "  117]]"
      ]
     },
     "execution_count": 389,
     "metadata": {},
     "output_type": "execute_result"
    }
   ],
   "source": [
    "ho_networks"
   ]
  },
  {
   "cell_type": "code",
   "execution_count": null,
   "id": "be2a9c35",
   "metadata": {},
   "outputs": [],
   "source": []
  }
 ],
 "metadata": {
  "kernelspec": {
   "display_name": "Python 3 (ipykernel)",
   "language": "python",
   "name": "python3"
  },
  "language_info": {
   "codemirror_mode": {
    "name": "ipython",
    "version": 3
   },
   "file_extension": ".py",
   "mimetype": "text/x-python",
   "name": "python",
   "nbconvert_exporter": "python",
   "pygments_lexer": "ipython3",
   "version": "3.9.7"
  }
 },
 "nbformat": 4,
 "nbformat_minor": 5
}
