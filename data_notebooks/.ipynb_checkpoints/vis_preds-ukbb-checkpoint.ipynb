{
 "cells": [
  {
   "cell_type": "code",
   "execution_count": 3,
   "id": "fde3e820",
   "metadata": {},
   "outputs": [],
   "source": [
    "import pandas as pd\n",
    "import numpy as np\n",
    "import torch\n",
    "from torch.utils.data import TensorDataset, Subset\n",
    "from tqdm import tqdm\n",
    "import torch\n",
    "import torch.nn.functional as F\n",
    "import matplotlib.pyplot as plt\n",
    "import numpy as np\n",
    "from nilearn import plotting\n",
    "import nilearn\n",
    "from glob import glob\n",
    "\n",
    "from sklearn.metrics import roc_auc_score\n"
   ]
  },
  {
   "cell_type": "code",
   "execution_count": 4,
   "id": "e6a320b6",
   "metadata": {},
   "outputs": [],
   "source": [
    "model_name = 'ss-default'\n",
    "data = np.load('/data/agelgazzar/projects/state-spaces/outputs/{}.npz'.format(model_name))\n",
    "outputs = data['output']\n",
    "target = data['target']\n"
   ]
  },
  {
   "cell_type": "code",
   "execution_count": 5,
   "id": "c0078687",
   "metadata": {},
   "outputs": [
    {
     "data": {
      "text/plain": [
       "(2911, 490, 12)"
      ]
     },
     "execution_count": 5,
     "metadata": {},
     "output_type": "execute_result"
    }
   ],
   "source": [
    "target.shape"
   ]
  },
  {
   "cell_type": "code",
   "execution_count": 6,
   "id": "e347a46b",
   "metadata": {},
   "outputs": [],
   "source": [
    "mask_rois = np.array(np.load('/data/agelgazzar/projects/state-spaces/ho_networks.npy', allow_pickle=True).item()['Default'])\n"
   ]
  },
  {
   "cell_type": "code",
   "execution_count": 7,
   "id": "81c5f332",
   "metadata": {},
   "outputs": [],
   "source": [
    "normal_args = np.arange(0,1000)\n",
    "anomaly_args = np.arange(1000,2000)\n",
    "normal_outputs = outputs[normal_args].transpose(0,2,1)\n",
    "normal_targets = target[normal_args].transpose(0,2,1)\n",
    "anomaly_outputs = outputs[anomaly_args].transpose(0,2,1)\n",
    "anomaly_targets = target[anomaly_args].transpose(0,2,1)\n"
   ]
  },
  {
   "cell_type": "code",
   "execution_count": 8,
   "id": "5809819d",
   "metadata": {},
   "outputs": [],
   "source": [
    "def calculate_score(data):\n",
    "    \n",
    "    X = data['output'].transpose(0,2,1)\n",
    "    Y = data['target'].transpose(0,2,1)\n",
    "    #Z = data['y']\n",
    "\n",
    "    \n",
    "    mses = []\n",
    "    corrs = []\n",
    "    diff = []\n",
    "    maes = [] \n",
    "    \n",
    "    for (x,y) in zip(X, Y):\n",
    "        \n",
    "        x = torch.tensor(x)\n",
    "        y = torch.tensor(y)\n",
    "        corr = np.abs(pearsonr(x,y).numpy())#.mean()\n",
    "        corr = corr.mean()\n",
    "        mse = torch.mean(torch.square(torch.subtract(x,y)),axis=1).numpy().mean()\n",
    "        mae = torch.mean(torch.abs(torch.subtract(x,y)),axis=1).numpy().mean()\n",
    "\n",
    "        corrs.append(corr)\n",
    "        mses.append(mse)\n",
    "        maes.append(mae)\n",
    "        diff.append(-corr)\n",
    "    return mses, maes, corrs, diff\n",
    "\n",
    "\n",
    "    \n",
    "    \n",
    " \n",
    "    "
   ]
  },
  {
   "cell_type": "code",
   "execution_count": 9,
   "id": "a904716f",
   "metadata": {},
   "outputs": [
    {
     "ename": "NameError",
     "evalue": "name 'pearsonr' is not defined",
     "output_type": "error",
     "traceback": [
      "\u001b[0;31m---------------------------------------------------------------------------\u001b[0m",
      "\u001b[0;31mNameError\u001b[0m                                 Traceback (most recent call last)",
      "Input \u001b[0;32mIn [9]\u001b[0m, in \u001b[0;36m<cell line: 1>\u001b[0;34m()\u001b[0m\n\u001b[0;32m----> 1\u001b[0m mses, maes, corrs, diff \u001b[38;5;241m=\u001b[39m \u001b[43mcalculate_score\u001b[49m\u001b[43m(\u001b[49m\u001b[43mdata\u001b[49m\u001b[43m)\u001b[49m\n",
      "Input \u001b[0;32mIn [8]\u001b[0m, in \u001b[0;36mcalculate_score\u001b[0;34m(data)\u001b[0m\n\u001b[1;32m     15\u001b[0m x \u001b[38;5;241m=\u001b[39m torch\u001b[38;5;241m.\u001b[39mtensor(x)\n\u001b[1;32m     16\u001b[0m y \u001b[38;5;241m=\u001b[39m torch\u001b[38;5;241m.\u001b[39mtensor(y)\n\u001b[0;32m---> 17\u001b[0m corr \u001b[38;5;241m=\u001b[39m np\u001b[38;5;241m.\u001b[39mabs(\u001b[43mpearsonr\u001b[49m(x,y)\u001b[38;5;241m.\u001b[39mnumpy())\u001b[38;5;66;03m#.mean()\u001b[39;00m\n\u001b[1;32m     18\u001b[0m corr \u001b[38;5;241m=\u001b[39m corr\u001b[38;5;241m.\u001b[39mmean()\n\u001b[1;32m     19\u001b[0m mse \u001b[38;5;241m=\u001b[39m torch\u001b[38;5;241m.\u001b[39mmean(torch\u001b[38;5;241m.\u001b[39msquare(torch\u001b[38;5;241m.\u001b[39msubtract(x,y)),axis\u001b[38;5;241m=\u001b[39m\u001b[38;5;241m1\u001b[39m)\u001b[38;5;241m.\u001b[39mnumpy()\u001b[38;5;241m.\u001b[39mmean()\n",
      "\u001b[0;31mNameError\u001b[0m: name 'pearsonr' is not defined"
     ]
    }
   ],
   "source": [
    "mses, maes, corrs, diff = calculate_score(data)\n"
   ]
  },
  {
   "cell_type": "code",
   "execution_count": null,
   "id": "12c44eb7",
   "metadata": {},
   "outputs": [],
   "source": [
    "def calculate_score_roi(data,roi):\n",
    "    \n",
    "    X = data['output'].transpose(0,2,1)[:,roi,:]\n",
    "    Y = data['target'].transpose(0,2,1)[:,roi,:]\n",
    "    Z = data['y']\n",
    "\n",
    "    \n",
    "    mses = []\n",
    "    corrs = []\n",
    "    diff = []\n",
    "    maes = [] \n",
    "    \n",
    "    for (x,y) in zip(X, Y):\n",
    "        \n",
    "        x = torch.tensor(x)\n",
    "        y = torch.tensor(y)\n",
    "        corr = np.abs(pearsonr(x,y).numpy()).mean()\n",
    "        mse = torch.mean(torch.square(torch.subtract(x,y))).numpy().mean()\n",
    "        mae = torch.mean(torch.abs(torch.subtract(x,y))).numpy().mean()\n",
    "\n",
    "        corrs.append(corr)\n",
    "        mses.append(mse)\n",
    "        maes.append(mae)\n",
    "        diff.append(corr-mse)\n",
    "    return mses, maes, corrs, diff,  Z\n",
    "\n",
    "\n",
    "    \n",
    "    \n",
    " \n",
    "    "
   ]
  },
  {
   "cell_type": "code",
   "execution_count": null,
   "id": "24fd0b2c",
   "metadata": {},
   "outputs": [],
   "source": [
    "idx = 6\n",
    "\n",
    "\n",
    "\n",
    "target_sample_a = anomaly_targets[idx]\n",
    "output_sample_a = anomaly_outputs[idx]\n",
    "\n",
    "target_sample_n = normal_targets[idx]\n",
    "output_sample_n = normal_outputs[idx]\n",
    "\n",
    "\n",
    "x_a = torch.tensor(output_sample_a)\n",
    "y_a = torch.tensor(target_sample_a)\n",
    "\n",
    "x_n = torch.tensor(output_sample_n)\n",
    "y_n = torch.tensor(target_sample_n)\n",
    "\n",
    "\n",
    "corrs_a = np.abs(pearsonr(x_a,y_a).numpy())\n",
    "corrs_n = np.abs(pearsonr(x_n,y_n).numpy())\n",
    "\n",
    "mse_a = torch.mean(torch.square(torch.subtract(x_a,y_a)),axis=1).numpy()\n",
    "mse_n = torch.mean(torch.square(torch.subtract(x_n,y_n)),axis=1).numpy()\n",
    "\n",
    "#print(corrs_a.mean(), corrs_n.mean())\n",
    "print(mse_a.mean(), mse_n.mean())\n",
    "\n",
    "\n",
    "#print(corrs_a.mean() - mse_a.mean() , corrs_n.mean() - mse_n.mean())"
   ]
  },
  {
   "cell_type": "code",
   "execution_count": null,
   "id": "36315fdd",
   "metadata": {},
   "outputs": [],
   "source": [
    "from nilearn import datasets\n",
    "\n",
    "dataset = datasets.fetch_atlas_harvard_oxford('cort-maxprob-thr25-2mm', symmetric_split= True)\n",
    "labels_cor = dataset.labels[1:]\n",
    "dataset = datasets.fetch_atlas_harvard_oxford('sub-maxprob-thr25-2mm', symmetric_split= True)\n",
    "ho_sub = dataset.maps\n",
    "labels_sub = dataset.labels[1:]\n",
    "\n",
    "regions = np.array(labels_cor+labels_sub)\n"
   ]
  },
  {
   "cell_type": "code",
   "execution_count": null,
   "id": "1cba5405",
   "metadata": {},
   "outputs": [],
   "source": [
    "fig, ax = plt.subplots(nrows=2, ncols=1, figsize=(16,12))\n",
    "ind = 8\n",
    "roi = mask_rois[ind]\n",
    "custom_xlim = (0, 250)\n",
    "custom_ylim = (-4, 4)\n",
    "plt.setp(ax[0], xlim=custom_xlim, ylim=custom_ylim)\n",
    "plt.setp(ax[1], xlim=custom_xlim, ylim=custom_ylim)\n",
    "\n",
    "#plot_subject(ax[0], input_sample, roi)\n",
    "ax[0].set_title('HC '+ regions[roi] + ' | corr={:.3f} | mse={:.3f}'.format(corrs_n[ind][0],mse_n[ind]))\n",
    "plot_subject(ax[0], target_sample_n, ind, name='ground_truth')\n",
    "plot_subject(ax[0], output_sample_n, ind,  name='prediction')\n",
    "ax[0].legend(loc='best')\n",
    "\n",
    "\n",
    "ax[1].set_title('MDD '+regions[roi] + ' | corr={:.3f} | mse={:.3f}'.format(corrs_a[ind][0],mse_a[ind]))\n",
    "plot_subject(ax[1], target_sample_a, ind, name='ground_truth')\n",
    "plot_subject(ax[1], output_sample_a, ind, name='prediction')\n",
    "ax[1].legend(loc='best')\n",
    "\n",
    "plt.savefig('/data/agelgazzar/projects/state-spaces/samples/mdd_default_{}_subj2.png'.format(roi))\n"
   ]
  },
  {
   "cell_type": "code",
   "execution_count": null,
   "id": "bac23ce9",
   "metadata": {},
   "outputs": [],
   "source": [
    "def plot_subject(ax, subject, roi=-1, name='ground_truth'):\n",
    "    if roi == -1:\n",
    "        for region in subject:\n",
    "            ax.plot(region)\n",
    "    else:\n",
    "        for region in subject[roi:roi+1]:\n",
    "            ax.plot(region, label=name)"
   ]
  },
  {
   "cell_type": "code",
   "execution_count": null,
   "id": "5bbd3fe6",
   "metadata": {},
   "outputs": [],
   "source": [
    "np.arange(0,116,2)"
   ]
  },
  {
   "cell_type": "code",
   "execution_count": null,
   "id": "e9ebfcaf",
   "metadata": {},
   "outputs": [],
   "source": [
    "batches = glob('./outputs/*')\n",
    "\n",
    "for batch in batches:\n",
    "    batch = np.load(batch)\n",
    "    target = np.transpose(batch['target'],(0,2,1))\n",
    "    output = np.transpose(batch['output'],(0, 2,1))\n",
    "    for y_, y in (zip(output,target)):\n",
    "        \n",
    "    "
   ]
  },
  {
   "cell_type": "code",
   "execution_count": null,
   "id": "ca76a596",
   "metadata": {},
   "outputs": [],
   "source": [
    "batches = glob('./outputs/*')\n",
    "\n",
    "preds = []\n",
    "targets = []\n",
    "\n",
    "\n",
    "for batch in batches:\n",
    "    batch = np.load(batch)\n",
    "    targets.append(np.transpose(batch['target'],(0,2,1)))\n",
    "    preds.append(np.transpose(batch['output'],(0, 2,1)))\n",
    "\n",
    "preds = np.concatenate(preds,axis=0)\n",
    "targets = np.concatenate(targets,axis=0)\n"
   ]
  },
  {
   "cell_type": "code",
   "execution_count": null,
   "id": "4f6ea2b6",
   "metadata": {},
   "outputs": [],
   "source": [
    "preds = np.transpose(ouptut['output'],(0,2,1))\n",
    "targets = np.transpose(ouptut['target'], (0,2,1))"
   ]
  },
  {
   "cell_type": "code",
   "execution_count": null,
   "id": "5e4b7f39",
   "metadata": {},
   "outputs": [],
   "source": [
    "targets.shape"
   ]
  },
  {
   "cell_type": "code",
   "execution_count": null,
   "id": "5e520d82",
   "metadata": {},
   "outputs": [],
   "source": [
    "rois_mse = np.mean(np.square(np.subtract(targets,preds)),axis=0)\n",
    "rois_mse_mean = np.mean(rois_mse,axis=1)\n",
    "rois_mse_sd = np.std(rois_mse,axis=1)"
   ]
  },
  {
   "cell_type": "code",
   "execution_count": null,
   "id": "c491cc83",
   "metadata": {},
   "outputs": [],
   "source": [
    "sort_inds = np.argsort(rois_mse_mean)\n",
    "rois_mse_sorted_m = rois_mse_mean[sort_inds]\n",
    "rois_mse_sorted_sd = rois_mse_sd[sort_inds]\n",
    "\n",
    "regions = np.array(regions)\n",
    "rois_sorted = regions[sort_inds]"
   ]
  },
  {
   "cell_type": "code",
   "execution_count": null,
   "id": "4646c78d",
   "metadata": {},
   "outputs": [],
   "source": [
    "sort_inds"
   ]
  },
  {
   "cell_type": "code",
   "execution_count": null,
   "id": "9186be54",
   "metadata": {},
   "outputs": [],
   "source": [
    "plt.rcdefaults()\n",
    "fig, ax = plt.subplots(figsize=(16,30))\n",
    "\n",
    "# Example data\n",
    "y_pos = np.arange(len(rois_sorted))\n",
    "#plt.rcParams.update({'font.size': 22})\n",
    "ax.barh(rois_sorted, rois_mse_sorted_m, xerr=rois_mse_sorted_sd)\n",
    "ax.set_yticks(y_pos, labels=rois_sorted)\n",
    "ax.invert_yaxis()  # labels read top-to-bottom\n",
    "ax.set_xlabel('MSE error')\n",
    "ax.set_title('ROIs forecasting errors')\n",
    "\n",
    "plt.savefig('rois_errors_t=50.pdf', dpi=1000)"
   ]
  },
  {
   "cell_type": "code",
   "execution_count": null,
   "id": "3190625f",
   "metadata": {},
   "outputs": [],
   "source": [
    "#df_h = pd.read_csv('csvfiles/ukbb_MDD_train.csv')\n",
    "\n",
    "c = 0\n",
    "for i in range(len(df_h)):\n",
    "    tc = df_h['tc_file'].iloc[i].replace('ATLAS','HO')\n",
    "    if not os.path.isfile(tc):\n",
    "        print(tc)\n"
   ]
  },
  {
   "cell_type": "code",
   "execution_count": null,
   "id": "fe5b296a",
   "metadata": {},
   "outputs": [],
   "source": [
    "df_h = df_h[df_h.ID != 1641691]"
   ]
  },
  {
   "cell_type": "code",
   "execution_count": null,
   "id": "bbd543a3",
   "metadata": {},
   "outputs": [],
   "source": [
    "a = np.load(\"outputs/abide_linear.npy\")\n",
    "a.shape"
   ]
  },
  {
   "cell_type": "code",
   "execution_count": null,
   "id": "e1aba1e6",
   "metadata": {},
   "outputs": [],
   "source": [
    "import numpy as np\n",
    "from nilearn import plotting\n",
    "\n",
    "plotting.plot_matrix(a, figure=(10, 8))"
   ]
  },
  {
   "cell_type": "code",
   "execution_count": null,
   "id": "6e05fba6",
   "metadata": {},
   "outputs": [],
   "source": [
    "hc_nodes = np.argsort(a.sum(axis=0))"
   ]
  },
  {
   "cell_type": "code",
   "execution_count": null,
   "id": "b568fb7b",
   "metadata": {},
   "outputs": [],
   "source": [
    "np.diagonal(a)"
   ]
  },
  {
   "cell_type": "code",
   "execution_count": null,
   "id": "a7cbd329",
   "metadata": {},
   "outputs": [],
   "source": [
    "np.sum(a,axis=1)"
   ]
  },
  {
   "cell_type": "code",
   "execution_count": null,
   "id": "a44a314b",
   "metadata": {},
   "outputs": [],
   "source": [
    "mask_rois"
   ]
  },
  {
   "cell_type": "code",
   "execution_count": null,
   "id": "061f9185",
   "metadata": {},
   "outputs": [],
   "source": [
    "a[69].argmax()"
   ]
  },
  {
   "cell_type": "code",
   "execution_count": null,
   "id": "c2e5100e",
   "metadata": {},
   "outputs": [],
   "source": [
    "regions[hc_nodes]"
   ]
  },
  {
   "cell_type": "code",
   "execution_count": null,
   "id": "efc94c1f",
   "metadata": {},
   "outputs": [],
   "source": []
  }
 ],
 "metadata": {
  "kernelspec": {
   "display_name": "Python 3 (ipykernel)",
   "language": "python",
   "name": "python3"
  },
  "language_info": {
   "codemirror_mode": {
    "name": "ipython",
    "version": 3
   },
   "file_extension": ".py",
   "mimetype": "text/x-python",
   "name": "python",
   "nbconvert_exporter": "python",
   "pygments_lexer": "ipython3",
   "version": "3.9.7"
  }
 },
 "nbformat": 4,
 "nbformat_minor": 5
}
